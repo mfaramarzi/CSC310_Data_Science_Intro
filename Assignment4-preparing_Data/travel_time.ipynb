{
 "cells": [
  {
   "cell_type": "markdown",
   "metadata": {},
   "source": [
    "# Title\n",
    "\n",
    "## Data Description\n",
    "A driver uses an app to track GPS coordinates as he drives to work and back each day. The app collects the location and elevation data. Data for about 200 trips are summarized in this data set.\n",
    "\t\n",
    "`Date` of travel  \n",
    "`StartTime`: when getting into the car  \n",
    "`DayOfWeek`: the day name  \n",
    "`GoingTo`: direction of travel  \n",
    "`Distance` travelled in kilometers  \n",
    "`MaxSpeed`: fastest speed recorded (all trips are on the 407 highway for some portion)  \n",
    "`AvgSpeed`: the average speed for the entire trip  \n",
    "`AvgMovingSpeed`: the average speed recorded only while the car is moving  \n",
    "`FuelEconomy`: a rough estimate of fuel economy (it is inaccurate)  \n",
    "`TotalTime`: duration of the entire trip, in minutes  \n",
    "`MovingTime`: duration when the car was considered to be moving (i.e. not counting traffic delays, accidents, or time while the car is stationary)  \n",
    "`Take407All`: is Yes if the 407 toll highway was taken for the entire trip. I try to avoid taking the 407, taking slower back routes to save costs. But some days I'm running late, or just lazy, and take it all the way.  \n",
    "`Comments`  "
   ]
  },
  {
   "cell_type": "code",
   "execution_count": null,
   "metadata": {},
   "outputs": [],
   "source": [
    "# imports"
   ]
  },
  {
   "cell_type": "code",
   "execution_count": null,
   "metadata": {},
   "outputs": [],
   "source": [
    "travel_df = pd.___('data/travel_time.csv')"
   ]
  },
  {
   "cell_type": "markdown",
   "metadata": {},
   "source": [
    "<!-- check the data for type errors, and typos and correct both, then save to a clean csv-->"
   ]
  },
  {
   "cell_type": "code",
   "execution_count": null,
   "metadata": {},
   "outputs": [],
   "source": []
  },
  {
   "cell_type": "markdown",
   "metadata": {},
   "source": [
    "<!-- now consider what to do with NaN values, repair the data and save to another csv-->"
   ]
  }
 ],
 "metadata": {
  "kernelspec": {
   "display_name": "Python 3",
   "language": "python",
   "name": "python3"
  },
  "language_info": {
   "codemirror_mode": {
    "name": "ipython",
    "version": 3
   },
   "file_extension": ".py",
   "mimetype": "text/x-python",
   "name": "python",
   "nbconvert_exporter": "python",
   "pygments_lexer": "ipython3",
   "version": "3.8.3"
  }
 },
 "nbformat": 4,
 "nbformat_minor": 4
}
