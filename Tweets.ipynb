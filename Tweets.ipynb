{
 "cells": [
  {
   "cell_type": "markdown",
   "metadata": {},
   "source": [
    "# Instructions\n",
    "\n",
    "this will earn level 2 for **construct**\n",
    "\n",
    "Your goal is to build and prepare two ready to analyze datasets. You will submit a notebook that describes how you built and prepared each dataset.\n",
    "\n",
    "* Each finished dataset must be produced from two or more tables.\n",
    "\n",
    "* At least one must come from an sqlite database, either by merging results from multiple queries or multiple tables.\n",
    "\n",
    "* You should use at least three different merges and one concatenate\n",
    "\n",
    "Your completed datasets should have:\n",
    "\n",
    "* column names that are well formatted (only lowercase letters, numbers and _)\n",
    "\n",
    "* an added column that is derived from one or more other columns (string operation or calculation)\n",
    "\n",
    "For each dataset, pose one question that could not be answered from the input data files as provided and demonstrate how to answer it with the dataset you built. This could be something that can be answered with using only shape of the merged data, but if you need summarize and visualize level 2 achievements, you should use more statistics and plots.\n",
    "\n",
    "Your notebooks must be in the top level of the repository, not in a subfolder.\n",
    "Additional Achievements:\n",
    "\n",
    "if you already earned prior achievements you can ignore the following\n",
    "\n",
    "To earn level 2 for **prepare**, one of your analyses must use datasets with missing values and one must be provided as excel files with merged columns (for example from NCES). You may use one dataset with both merged columns and missing data or one of each. You must also use datasets that have column names that need repair.\n",
    "For the merged column data, either before or after merging, you must additionally:\n",
    "\n",
    "* create separate separate tables for original and aggregate values (eg percentages or sums that can be recovered from the other columns)\n",
    "\n",
    "* unstack all levels of the data to create a single level index over the columns* create a database with the tables\n"
   ]
  },
  {
   "cell_type": "markdown",
   "metadata": {},
   "source": [
    "![](tweet.png)"
   ]
  },
  {
   "cell_type": "markdown",
   "metadata": {},
   "source": [
    "# Description of Datasets\n",
    "A sentiment analysis job about the problems of each major U.S. airline. Twitter data was scraped from February of 2015 and contributors were asked to first classify positive, negative, and neutral tweets, followed by categorizing negative reasons (such as \"late flight\" or \"rude service\").\n",
    "\n",
    "Some exploratory ideas on this include:\n",
    "\n",
    "* when tweets are negative, what topics do travelers tend to discuss?\n",
    "* when tweets are positive, what are travelers happy with?\n",
    "* outside of sentiment, what other systematic variation exists in the tweets about different airlines?\n",
    "* what types of tweets on airlines tend to be retweeted?\n",
    "\n",
    "[Reference](https://www.kaggle.com/crowdflower/twitter-airline-sentiment)"
   ]
  },
  {
   "cell_type": "markdown",
   "metadata": {},
   "source": [
    "## Importing Required Libraries"
   ]
  },
  {
   "cell_type": "code",
   "execution_count": 1,
   "metadata": {},
   "outputs": [],
   "source": [
    "import sqlite3 \n",
    "import pandas as pd"
   ]
  },
  {
   "cell_type": "markdown",
   "metadata": {},
   "source": [
    "## Loading Database"
   ]
  },
  {
   "cell_type": "markdown",
   "metadata": {},
   "source": [
    "If we need to work with larger datasets, one option is working with larger computers. But another option is loading data from a database instead of loading all data to the memory(RAM). One way of doing the later alternative is using a python library named \"sqlite3\" which allow us to creat a connection between database and Python.\n",
    "\n",
    "Database should be downloaded, because when we need to make a connection to the database and have a dynamic interaction with that. \n",
    "\n",
    "After downloading database,  there are three steps we need to take before working with data out of database:\n",
    "1. Making conncetion between jupyter notebook (python environment), and database.\n",
    "2. Running quiries on the database.\n",
    "3. Getting the information out of database and work with that in Python."
   ]
  },
  {
   "cell_type": "markdown",
   "metadata": {},
   "source": [
    "**Making the conncetion with the \"database\" database**"
   ]
  },
  {
   "cell_type": "code",
   "execution_count": 2,
   "metadata": {},
   "outputs": [],
   "source": [
    "con = sqlite3.connect('data/tweeter/database.sqlite')"
   ]
  },
  {
   "cell_type": "markdown",
   "metadata": {},
   "source": [
    "### One Method for loading data is using a cursor"
   ]
  },
  {
   "cell_type": "markdown",
   "metadata": {},
   "source": [
    "**Creating Cursor** (only for demonstration)"
   ]
  },
  {
   "cell_type": "code",
   "execution_count": 3,
   "metadata": {},
   "outputs": [],
   "source": [
    "cur = con.cursor()"
   ]
  },
  {
   "cell_type": "code",
   "execution_count": 4,
   "metadata": {
    "scrolled": true
   },
   "outputs": [
    {
     "data": {
      "text/plain": [
       "<sqlite3.Cursor at 0x7f3d6b3bc8f0>"
      ]
     },
     "execution_count": 4,
     "metadata": {},
     "output_type": "execute_result"
    }
   ],
   "source": [
    "cur.execute(\"SELECT * FROM Tweets\")"
   ]
  },
  {
   "cell_type": "markdown",
   "metadata": {},
   "source": [
    "We can make a list of our columns using description method (its first component):"
   ]
  },
  {
   "cell_type": "code",
   "execution_count": 5,
   "metadata": {},
   "outputs": [],
   "source": [
    "colnames = []\n",
    "for desc in cur.description:\n",
    "    colnames.append(desc[0])"
   ]
  },
  {
   "cell_type": "code",
   "execution_count": 6,
   "metadata": {
    "scrolled": true
   },
   "outputs": [
    {
     "data": {
      "text/plain": [
       "['tweet_id',\n",
       " 'airline_sentiment',\n",
       " 'airline_sentiment_confidence',\n",
       " 'negativereason',\n",
       " 'negativereason_confidence',\n",
       " 'airline',\n",
       " 'airline_sentiment_gold',\n",
       " 'name',\n",
       " 'negativereason_gold',\n",
       " 'retweet_count',\n",
       " 'text',\n",
       " 'tweet_coord',\n",
       " 'tweet_created',\n",
       " 'tweet_location',\n",
       " 'user_timezone']"
      ]
     },
     "execution_count": 6,
     "metadata": {},
     "output_type": "execute_result"
    }
   ],
   "source": [
    "colnames"
   ]
  },
  {
   "cell_type": "markdown",
   "metadata": {},
   "source": [
    "**fetching all the rows of query result**"
   ]
  },
  {
   "cell_type": "code",
   "execution_count": 7,
   "metadata": {},
   "outputs": [],
   "source": [
    "#It returns all the rows as a list of tuples.\n",
    "data = cur.fetchall()"
   ]
  },
  {
   "cell_type": "code",
   "execution_count": 8,
   "metadata": {
    "scrolled": true
   },
   "outputs": [
    {
     "data": {
      "text/plain": [
       "[(567588278875213824,\n",
       "  'neutral',\n",
       "  1,\n",
       "  '',\n",
       "  '',\n",
       "  'Delta',\n",
       "  '',\n",
       "  'JetBlueNews',\n",
       "  '',\n",
       "  0,\n",
       "  \"@JetBlue's new CEO seeks the right balance to please passengers and Wall ... - Greenfield Daily Reporter http://t.co/LM3opxkxch\",\n",
       "  '',\n",
       "  '2015-02-16 23:36:05 -0800',\n",
       "  'USA',\n",
       "  'Sydney'),\n",
       " (567590027375702016,\n",
       "  'negative',\n",
       "  1,\n",
       "  \"Can't Tell\",\n",
       "  0.6503,\n",
       "  'Delta',\n",
       "  '',\n",
       "  'nesi_1992',\n",
       "  '',\n",
       "  0,\n",
       "  '@JetBlue is REALLY getting on my nerves !! 😡😡 #nothappy',\n",
       "  '',\n",
       "  '2015-02-16 23:43:02 -0800',\n",
       "  'undecided',\n",
       "  'Pacific Time (US & Canada)')]"
      ]
     },
     "execution_count": 8,
     "metadata": {},
     "output_type": "execute_result"
    }
   ],
   "source": [
    "#showing the first two rows\n",
    "data[:2]"
   ]
  },
  {
   "cell_type": "markdown",
   "metadata": {},
   "source": [
    "**Making a dataframe using the rows and columns we made in previous steps**"
   ]
  },
  {
   "cell_type": "code",
   "execution_count": 9,
   "metadata": {
    "scrolled": true
   },
   "outputs": [
    {
     "data": {
      "text/html": [
       "<div>\n",
       "<style scoped>\n",
       "    .dataframe tbody tr th:only-of-type {\n",
       "        vertical-align: middle;\n",
       "    }\n",
       "\n",
       "    .dataframe tbody tr th {\n",
       "        vertical-align: top;\n",
       "    }\n",
       "\n",
       "    .dataframe thead th {\n",
       "        text-align: right;\n",
       "    }\n",
       "</style>\n",
       "<table border=\"1\" class=\"dataframe\">\n",
       "  <thead>\n",
       "    <tr style=\"text-align: right;\">\n",
       "      <th></th>\n",
       "      <th>tweet_id</th>\n",
       "      <th>airline_sentiment</th>\n",
       "      <th>airline_sentiment_confidence</th>\n",
       "      <th>negativereason</th>\n",
       "      <th>negativereason_confidence</th>\n",
       "      <th>airline</th>\n",
       "      <th>airline_sentiment_gold</th>\n",
       "      <th>name</th>\n",
       "      <th>negativereason_gold</th>\n",
       "      <th>retweet_count</th>\n",
       "      <th>text</th>\n",
       "      <th>tweet_coord</th>\n",
       "      <th>tweet_created</th>\n",
       "      <th>tweet_location</th>\n",
       "      <th>user_timezone</th>\n",
       "    </tr>\n",
       "  </thead>\n",
       "  <tbody>\n",
       "    <tr>\n",
       "      <th>0</th>\n",
       "      <td>567588278875213824</td>\n",
       "      <td>neutral</td>\n",
       "      <td>1.0000</td>\n",
       "      <td></td>\n",
       "      <td></td>\n",
       "      <td>Delta</td>\n",
       "      <td></td>\n",
       "      <td>JetBlueNews</td>\n",
       "      <td></td>\n",
       "      <td>0</td>\n",
       "      <td>@JetBlue's new CEO seeks the right balance to ...</td>\n",
       "      <td></td>\n",
       "      <td>2015-02-16 23:36:05 -0800</td>\n",
       "      <td>USA</td>\n",
       "      <td>Sydney</td>\n",
       "    </tr>\n",
       "    <tr>\n",
       "      <th>1</th>\n",
       "      <td>567590027375702016</td>\n",
       "      <td>negative</td>\n",
       "      <td>1.0000</td>\n",
       "      <td>Can't Tell</td>\n",
       "      <td>0.6503</td>\n",
       "      <td>Delta</td>\n",
       "      <td></td>\n",
       "      <td>nesi_1992</td>\n",
       "      <td></td>\n",
       "      <td>0</td>\n",
       "      <td>@JetBlue is REALLY getting on my nerves !! 😡😡 ...</td>\n",
       "      <td></td>\n",
       "      <td>2015-02-16 23:43:02 -0800</td>\n",
       "      <td>undecided</td>\n",
       "      <td>Pacific Time (US &amp; Canada)</td>\n",
       "    </tr>\n",
       "    <tr>\n",
       "      <th>2</th>\n",
       "      <td>567591480085463040</td>\n",
       "      <td>negative</td>\n",
       "      <td>1.0000</td>\n",
       "      <td>Late Flight</td>\n",
       "      <td>0.346</td>\n",
       "      <td>United</td>\n",
       "      <td></td>\n",
       "      <td>CPoutloud</td>\n",
       "      <td></td>\n",
       "      <td>0</td>\n",
       "      <td>@united yes. We waited in line for almost an h...</td>\n",
       "      <td></td>\n",
       "      <td>2015-02-16 23:48:48 -0800</td>\n",
       "      <td>Washington, DC</td>\n",
       "      <td></td>\n",
       "    </tr>\n",
       "    <tr>\n",
       "      <th>3</th>\n",
       "      <td>567592368451248130</td>\n",
       "      <td>negative</td>\n",
       "      <td>1.0000</td>\n",
       "      <td>Late Flight</td>\n",
       "      <td>1</td>\n",
       "      <td>United</td>\n",
       "      <td></td>\n",
       "      <td>brenduch</td>\n",
       "      <td></td>\n",
       "      <td>0</td>\n",
       "      <td>@united the we got into the gate at IAH on tim...</td>\n",
       "      <td></td>\n",
       "      <td>2015-02-16 23:52:20 -0800</td>\n",
       "      <td></td>\n",
       "      <td>Buenos Aires</td>\n",
       "    </tr>\n",
       "    <tr>\n",
       "      <th>4</th>\n",
       "      <td>567594449874587648</td>\n",
       "      <td>negative</td>\n",
       "      <td>1.0000</td>\n",
       "      <td>Customer Service Issue</td>\n",
       "      <td>0.3451</td>\n",
       "      <td>Southwest</td>\n",
       "      <td></td>\n",
       "      <td>VahidESQ</td>\n",
       "      <td></td>\n",
       "      <td>0</td>\n",
       "      <td>@SouthwestAir its cool that my bags take a bit...</td>\n",
       "      <td></td>\n",
       "      <td>2015-02-17 00:00:36 -0800</td>\n",
       "      <td>Los Angeles, CA</td>\n",
       "      <td>Pacific Time (US &amp; Canada)</td>\n",
       "    </tr>\n",
       "    <tr>\n",
       "      <th>...</th>\n",
       "      <td>...</td>\n",
       "      <td>...</td>\n",
       "      <td>...</td>\n",
       "      <td>...</td>\n",
       "      <td>...</td>\n",
       "      <td>...</td>\n",
       "      <td>...</td>\n",
       "      <td>...</td>\n",
       "      <td>...</td>\n",
       "      <td>...</td>\n",
       "      <td>...</td>\n",
       "      <td>...</td>\n",
       "      <td>...</td>\n",
       "      <td>...</td>\n",
       "      <td>...</td>\n",
       "    </tr>\n",
       "    <tr>\n",
       "      <th>14480</th>\n",
       "      <td>570309308937842688</td>\n",
       "      <td>neutral</td>\n",
       "      <td>0.6869</td>\n",
       "      <td></td>\n",
       "      <td></td>\n",
       "      <td>Delta</td>\n",
       "      <td></td>\n",
       "      <td>Oneladyyouadore</td>\n",
       "      <td></td>\n",
       "      <td>0</td>\n",
       "      <td>@JetBlue I hope so because I fly very often an...</td>\n",
       "      <td></td>\n",
       "      <td>2015-02-24 11:48:29 -0800</td>\n",
       "      <td>Georgia</td>\n",
       "      <td>Quito</td>\n",
       "    </tr>\n",
       "    <tr>\n",
       "      <th>14481</th>\n",
       "      <td>570309340952993796</td>\n",
       "      <td>neutral</td>\n",
       "      <td>1.0000</td>\n",
       "      <td></td>\n",
       "      <td></td>\n",
       "      <td>US Airways</td>\n",
       "      <td></td>\n",
       "      <td>DebbiMcGinnis</td>\n",
       "      <td></td>\n",
       "      <td>0</td>\n",
       "      <td>@USAirways is a DM possible if you aren't foll...</td>\n",
       "      <td></td>\n",
       "      <td>2015-02-24 11:48:37 -0800</td>\n",
       "      <td>Missourah</td>\n",
       "      <td>Hawaii</td>\n",
       "    </tr>\n",
       "    <tr>\n",
       "      <th>14482</th>\n",
       "      <td>570309345281486848</td>\n",
       "      <td>positive</td>\n",
       "      <td>0.6469</td>\n",
       "      <td></td>\n",
       "      <td></td>\n",
       "      <td>Delta</td>\n",
       "      <td></td>\n",
       "      <td>jaxbra</td>\n",
       "      <td></td>\n",
       "      <td>0</td>\n",
       "      <td>@JetBlue Yesterday on my way from EWR to FLL j...</td>\n",
       "      <td></td>\n",
       "      <td>2015-02-24 11:48:38 -0800</td>\n",
       "      <td>east brunswick, nj</td>\n",
       "      <td>Atlantic Time (Canada)</td>\n",
       "    </tr>\n",
       "    <tr>\n",
       "      <th>14483</th>\n",
       "      <td>570310144459972608</td>\n",
       "      <td>negative</td>\n",
       "      <td>1.0000</td>\n",
       "      <td>Customer Service Issue</td>\n",
       "      <td>1</td>\n",
       "      <td>US Airways</td>\n",
       "      <td></td>\n",
       "      <td>GAKotsch</td>\n",
       "      <td></td>\n",
       "      <td>0</td>\n",
       "      <td>@USAirways and when will one of these agents b...</td>\n",
       "      <td></td>\n",
       "      <td>2015-02-24 11:51:48 -0800</td>\n",
       "      <td></td>\n",
       "      <td>Atlantic Time (Canada)</td>\n",
       "    </tr>\n",
       "    <tr>\n",
       "      <th>14484</th>\n",
       "      <td>570310600460525568</td>\n",
       "      <td>negative</td>\n",
       "      <td>0.6292</td>\n",
       "      <td>Flight Booking Problems</td>\n",
       "      <td>0.3146</td>\n",
       "      <td>US Airways</td>\n",
       "      <td></td>\n",
       "      <td>jhazelnut</td>\n",
       "      <td></td>\n",
       "      <td>0</td>\n",
       "      <td>@USAirways  is there a better time to call? My...</td>\n",
       "      <td></td>\n",
       "      <td>2015-02-24 11:53:37 -0800</td>\n",
       "      <td></td>\n",
       "      <td></td>\n",
       "    </tr>\n",
       "  </tbody>\n",
       "</table>\n",
       "<p>14485 rows × 15 columns</p>\n",
       "</div>"
      ],
      "text/plain": [
       "                 tweet_id airline_sentiment  airline_sentiment_confidence  \\\n",
       "0      567588278875213824           neutral                        1.0000   \n",
       "1      567590027375702016          negative                        1.0000   \n",
       "2      567591480085463040          negative                        1.0000   \n",
       "3      567592368451248130          negative                        1.0000   \n",
       "4      567594449874587648          negative                        1.0000   \n",
       "...                   ...               ...                           ...   \n",
       "14480  570309308937842688           neutral                        0.6869   \n",
       "14481  570309340952993796           neutral                        1.0000   \n",
       "14482  570309345281486848          positive                        0.6469   \n",
       "14483  570310144459972608          negative                        1.0000   \n",
       "14484  570310600460525568          negative                        0.6292   \n",
       "\n",
       "                negativereason negativereason_confidence     airline  \\\n",
       "0                                                              Delta   \n",
       "1                   Can't Tell                    0.6503       Delta   \n",
       "2                  Late Flight                     0.346      United   \n",
       "3                  Late Flight                         1      United   \n",
       "4       Customer Service Issue                    0.3451   Southwest   \n",
       "...                        ...                       ...         ...   \n",
       "14480                                                          Delta   \n",
       "14481                                                     US Airways   \n",
       "14482                                                          Delta   \n",
       "14483   Customer Service Issue                         1  US Airways   \n",
       "14484  Flight Booking Problems                    0.3146  US Airways   \n",
       "\n",
       "      airline_sentiment_gold             name negativereason_gold  \\\n",
       "0                                 JetBlueNews                       \n",
       "1                                   nesi_1992                       \n",
       "2                                   CPoutloud                       \n",
       "3                                    brenduch                       \n",
       "4                                    VahidESQ                       \n",
       "...                      ...              ...                 ...   \n",
       "14480                         Oneladyyouadore                       \n",
       "14481                           DebbiMcGinnis                       \n",
       "14482                                  jaxbra                       \n",
       "14483                                GAKotsch                       \n",
       "14484                               jhazelnut                       \n",
       "\n",
       "       retweet_count                                               text  \\\n",
       "0                  0  @JetBlue's new CEO seeks the right balance to ...   \n",
       "1                  0  @JetBlue is REALLY getting on my nerves !! 😡😡 ...   \n",
       "2                  0  @united yes. We waited in line for almost an h...   \n",
       "3                  0  @united the we got into the gate at IAH on tim...   \n",
       "4                  0  @SouthwestAir its cool that my bags take a bit...   \n",
       "...              ...                                                ...   \n",
       "14480              0  @JetBlue I hope so because I fly very often an...   \n",
       "14481              0  @USAirways is a DM possible if you aren't foll...   \n",
       "14482              0  @JetBlue Yesterday on my way from EWR to FLL j...   \n",
       "14483              0  @USAirways and when will one of these agents b...   \n",
       "14484              0  @USAirways  is there a better time to call? My...   \n",
       "\n",
       "      tweet_coord              tweet_created      tweet_location  \\\n",
       "0                  2015-02-16 23:36:05 -0800                 USA   \n",
       "1                  2015-02-16 23:43:02 -0800           undecided   \n",
       "2                  2015-02-16 23:48:48 -0800      Washington, DC   \n",
       "3                  2015-02-16 23:52:20 -0800                       \n",
       "4                  2015-02-17 00:00:36 -0800     Los Angeles, CA   \n",
       "...           ...                        ...                 ...   \n",
       "14480              2015-02-24 11:48:29 -0800             Georgia   \n",
       "14481              2015-02-24 11:48:37 -0800           Missourah   \n",
       "14482              2015-02-24 11:48:38 -0800  east brunswick, nj   \n",
       "14483              2015-02-24 11:51:48 -0800                       \n",
       "14484              2015-02-24 11:53:37 -0800                       \n",
       "\n",
       "                    user_timezone  \n",
       "0                          Sydney  \n",
       "1      Pacific Time (US & Canada)  \n",
       "2                                  \n",
       "3                    Buenos Aires  \n",
       "4      Pacific Time (US & Canada)  \n",
       "...                           ...  \n",
       "14480                       Quito  \n",
       "14481                      Hawaii  \n",
       "14482      Atlantic Time (Canada)  \n",
       "14483      Atlantic Time (Canada)  \n",
       "14484                              \n",
       "\n",
       "[14485 rows x 15 columns]"
      ]
     },
     "execution_count": 9,
     "metadata": {},
     "output_type": "execute_result"
    }
   ],
   "source": [
    "pd.DataFrame(data =data, columns = colnames)"
   ]
  },
  {
   "cell_type": "markdown",
   "metadata": {},
   "source": [
    "If we normally open a onnection, we have to close it at the end of operations"
   ]
  },
  {
   "cell_type": "code",
   "execution_count": 10,
   "metadata": {},
   "outputs": [],
   "source": [
    "con.close()"
   ]
  },
  {
   "cell_type": "markdown",
   "metadata": {},
   "source": [
    "If we open the connection using \"with\", it will be closed automatically at the end of loop."
   ]
  },
  {
   "cell_type": "code",
   "execution_count": 11,
   "metadata": {},
   "outputs": [],
   "source": [
    "with sqlite3.connect('data/tweeter/database.sqlite') as con:\n",
    "    cur = con.cursor()\n",
    "    cur.execute('SELECT * FROM Tweets')\n",
    "    row = cur.fetchone()\n"
   ]
  },
  {
   "cell_type": "markdown",
   "metadata": {},
   "source": [
    "### Second method for Accessing data stored in SQLite, is using Python and Pandas .\n",
    "we can also combine use of sqlite3 (to access databases) with Pandas' functions to pull data from databases to work with."
   ]
  },
  {
   "cell_type": "markdown",
   "metadata": {},
   "source": [
    "If from the airline column we only want data from Delta airline, we can do that using a condition (where clause) in our query."
   ]
  },
  {
   "cell_type": "code",
   "execution_count": 12,
   "metadata": {},
   "outputs": [],
   "source": [
    "df = pd.read_sql_query('SELECT * FROM Tweets WHERE airline = \"Delta\"',con)"
   ]
  },
  {
   "cell_type": "code",
   "execution_count": 13,
   "metadata": {},
   "outputs": [
    {
     "data": {
      "text/html": [
       "<div>\n",
       "<style scoped>\n",
       "    .dataframe tbody tr th:only-of-type {\n",
       "        vertical-align: middle;\n",
       "    }\n",
       "\n",
       "    .dataframe tbody tr th {\n",
       "        vertical-align: top;\n",
       "    }\n",
       "\n",
       "    .dataframe thead th {\n",
       "        text-align: right;\n",
       "    }\n",
       "</style>\n",
       "<table border=\"1\" class=\"dataframe\">\n",
       "  <thead>\n",
       "    <tr style=\"text-align: right;\">\n",
       "      <th></th>\n",
       "      <th>tweet_id</th>\n",
       "      <th>airline_sentiment</th>\n",
       "      <th>airline_sentiment_confidence</th>\n",
       "      <th>negativereason</th>\n",
       "      <th>negativereason_confidence</th>\n",
       "      <th>airline</th>\n",
       "      <th>airline_sentiment_gold</th>\n",
       "      <th>name</th>\n",
       "      <th>negativereason_gold</th>\n",
       "      <th>retweet_count</th>\n",
       "      <th>text</th>\n",
       "      <th>tweet_coord</th>\n",
       "      <th>tweet_created</th>\n",
       "      <th>tweet_location</th>\n",
       "      <th>user_timezone</th>\n",
       "    </tr>\n",
       "  </thead>\n",
       "  <tbody>\n",
       "    <tr>\n",
       "      <th>0</th>\n",
       "      <td>567588278875213824</td>\n",
       "      <td>neutral</td>\n",
       "      <td>1.0000</td>\n",
       "      <td></td>\n",
       "      <td></td>\n",
       "      <td>Delta</td>\n",
       "      <td></td>\n",
       "      <td>JetBlueNews</td>\n",
       "      <td></td>\n",
       "      <td>0</td>\n",
       "      <td>@JetBlue's new CEO seeks the right balance to ...</td>\n",
       "      <td></td>\n",
       "      <td>2015-02-16 23:36:05 -0800</td>\n",
       "      <td>USA</td>\n",
       "      <td>Sydney</td>\n",
       "    </tr>\n",
       "    <tr>\n",
       "      <th>1</th>\n",
       "      <td>567590027375702016</td>\n",
       "      <td>negative</td>\n",
       "      <td>1.0000</td>\n",
       "      <td>Can't Tell</td>\n",
       "      <td>0.6503</td>\n",
       "      <td>Delta</td>\n",
       "      <td></td>\n",
       "      <td>nesi_1992</td>\n",
       "      <td></td>\n",
       "      <td>0</td>\n",
       "      <td>@JetBlue is REALLY getting on my nerves !! 😡😡 ...</td>\n",
       "      <td></td>\n",
       "      <td>2015-02-16 23:43:02 -0800</td>\n",
       "      <td>undecided</td>\n",
       "      <td>Pacific Time (US &amp; Canada)</td>\n",
       "    </tr>\n",
       "    <tr>\n",
       "      <th>2</th>\n",
       "      <td>567667301067915264</td>\n",
       "      <td>neutral</td>\n",
       "      <td>1.0000</td>\n",
       "      <td></td>\n",
       "      <td></td>\n",
       "      <td>Delta</td>\n",
       "      <td></td>\n",
       "      <td>BritishAirNews</td>\n",
       "      <td></td>\n",
       "      <td>0</td>\n",
       "      <td>@JetBlue CEO weighs profits, flyers - @Chronic...</td>\n",
       "      <td></td>\n",
       "      <td>2015-02-17 04:50:05 -0800</td>\n",
       "      <td>UK</td>\n",
       "      <td>Sydney</td>\n",
       "    </tr>\n",
       "    <tr>\n",
       "      <th>3</th>\n",
       "      <td>567671602280923136</td>\n",
       "      <td>positive</td>\n",
       "      <td>1.0000</td>\n",
       "      <td></td>\n",
       "      <td></td>\n",
       "      <td>Delta</td>\n",
       "      <td></td>\n",
       "      <td>twinkletaters</td>\n",
       "      <td></td>\n",
       "      <td>0</td>\n",
       "      <td>@JetBlue Thanks! Her flight leaves at 2 but sh...</td>\n",
       "      <td>[32.07301184, -81.09362691]</td>\n",
       "      <td>2015-02-17 05:07:11 -0800</td>\n",
       "      <td>Savannah, GA</td>\n",
       "      <td></td>\n",
       "    </tr>\n",
       "    <tr>\n",
       "      <th>4</th>\n",
       "      <td>567680108002291712</td>\n",
       "      <td>positive</td>\n",
       "      <td>0.6645</td>\n",
       "      <td></td>\n",
       "      <td>0</td>\n",
       "      <td>Delta</td>\n",
       "      <td></td>\n",
       "      <td>TravellerLukose</td>\n",
       "      <td></td>\n",
       "      <td>0</td>\n",
       "      <td>@JetBlue No worries. Delay was minor and dealt...</td>\n",
       "      <td></td>\n",
       "      <td>2015-02-17 05:40:59 -0800</td>\n",
       "      <td></td>\n",
       "      <td></td>\n",
       "    </tr>\n",
       "  </tbody>\n",
       "</table>\n",
       "</div>"
      ],
      "text/plain": [
       "             tweet_id airline_sentiment  airline_sentiment_confidence  \\\n",
       "0  567588278875213824           neutral                        1.0000   \n",
       "1  567590027375702016          negative                        1.0000   \n",
       "2  567667301067915264           neutral                        1.0000   \n",
       "3  567671602280923136          positive                        1.0000   \n",
       "4  567680108002291712          positive                        0.6645   \n",
       "\n",
       "  negativereason negativereason_confidence airline airline_sentiment_gold  \\\n",
       "0                                            Delta                          \n",
       "1     Can't Tell                    0.6503   Delta                          \n",
       "2                                            Delta                          \n",
       "3                                            Delta                          \n",
       "4                                        0   Delta                          \n",
       "\n",
       "              name negativereason_gold  retweet_count  \\\n",
       "0      JetBlueNews                                  0   \n",
       "1        nesi_1992                                  0   \n",
       "2   BritishAirNews                                  0   \n",
       "3    twinkletaters                                  0   \n",
       "4  TravellerLukose                                  0   \n",
       "\n",
       "                                                text  \\\n",
       "0  @JetBlue's new CEO seeks the right balance to ...   \n",
       "1  @JetBlue is REALLY getting on my nerves !! 😡😡 ...   \n",
       "2  @JetBlue CEO weighs profits, flyers - @Chronic...   \n",
       "3  @JetBlue Thanks! Her flight leaves at 2 but sh...   \n",
       "4  @JetBlue No worries. Delay was minor and dealt...   \n",
       "\n",
       "                   tweet_coord              tweet_created tweet_location  \\\n",
       "0                               2015-02-16 23:36:05 -0800            USA   \n",
       "1                               2015-02-16 23:43:02 -0800      undecided   \n",
       "2                               2015-02-17 04:50:05 -0800             UK   \n",
       "3  [32.07301184, -81.09362691]  2015-02-17 05:07:11 -0800   Savannah, GA   \n",
       "4                               2015-02-17 05:40:59 -0800                  \n",
       "\n",
       "                user_timezone  \n",
       "0                      Sydney  \n",
       "1  Pacific Time (US & Canada)  \n",
       "2                      Sydney  \n",
       "3                              \n",
       "4                              "
      ]
     },
     "execution_count": 13,
     "metadata": {},
     "output_type": "execute_result"
    }
   ],
   "source": [
    "df.head()"
   ]
  },
  {
   "cell_type": "markdown",
   "metadata": {},
   "source": [
    "We can see unique airlines in our datadrame as below"
   ]
  },
  {
   "cell_type": "code",
   "execution_count": 14,
   "metadata": {
    "scrolled": true
   },
   "outputs": [
    {
     "data": {
      "text/plain": [
       "array(['Delta'], dtype=object)"
      ]
     },
     "execution_count": 14,
     "metadata": {},
     "output_type": "execute_result"
    }
   ],
   "source": [
    "pd.unique(df['airline'])"
   ]
  },
  {
   "cell_type": "markdown",
   "metadata": {},
   "source": [
    " ## **Hint:** At least one must come from an sqlite database, either by merging results from multiple queries or multiple tables."
   ]
  },
  {
   "cell_type": "markdown",
   "metadata": {},
   "source": [
    "Here we can see sentiment confidence number for tweets, which ahve been filtered by the airline company and onlt positive tweets. \n",
    "\n",
    "We can make this filter by Selecting **\"airline_sentiment_confidence \" airline = \"Delta\" AND airline_sentiment = \"positive\"** in the query . "
   ]
  },
  {
   "cell_type": "code",
   "execution_count": 15,
   "metadata": {},
   "outputs": [],
   "source": [
    "df_sentiment_delta_positive= pd.read_sql_query('SELECT tweet_id, airline_sentiment_confidence FROM Tweets WHERE airline = \"Delta\" AND airline_sentiment = \"positive\"' ,con)"
   ]
  },
  {
   "cell_type": "code",
   "execution_count": 16,
   "metadata": {
    "scrolled": true
   },
   "outputs": [
    {
     "data": {
      "text/html": [
       "<div>\n",
       "<style scoped>\n",
       "    .dataframe tbody tr th:only-of-type {\n",
       "        vertical-align: middle;\n",
       "    }\n",
       "\n",
       "    .dataframe tbody tr th {\n",
       "        vertical-align: top;\n",
       "    }\n",
       "\n",
       "    .dataframe thead th {\n",
       "        text-align: right;\n",
       "    }\n",
       "</style>\n",
       "<table border=\"1\" class=\"dataframe\">\n",
       "  <thead>\n",
       "    <tr style=\"text-align: right;\">\n",
       "      <th></th>\n",
       "      <th>tweet_id</th>\n",
       "      <th>airline_sentiment_confidence</th>\n",
       "    </tr>\n",
       "  </thead>\n",
       "  <tbody>\n",
       "    <tr>\n",
       "      <th>0</th>\n",
       "      <td>567671602280923136</td>\n",
       "      <td>1.0000</td>\n",
       "    </tr>\n",
       "    <tr>\n",
       "      <th>1</th>\n",
       "      <td>567680108002291712</td>\n",
       "      <td>0.6645</td>\n",
       "    </tr>\n",
       "    <tr>\n",
       "      <th>2</th>\n",
       "      <td>567724178317402112</td>\n",
       "      <td>0.6429</td>\n",
       "    </tr>\n",
       "    <tr>\n",
       "      <th>3</th>\n",
       "      <td>567727329783582720</td>\n",
       "      <td>1.0000</td>\n",
       "    </tr>\n",
       "    <tr>\n",
       "      <th>4</th>\n",
       "      <td>567727526777073664</td>\n",
       "      <td>1.0000</td>\n",
       "    </tr>\n",
       "  </tbody>\n",
       "</table>\n",
       "</div>"
      ],
      "text/plain": [
       "             tweet_id  airline_sentiment_confidence\n",
       "0  567671602280923136                        1.0000\n",
       "1  567680108002291712                        0.6645\n",
       "2  567724178317402112                        0.6429\n",
       "3  567727329783582720                        1.0000\n",
       "4  567727526777073664                        1.0000"
      ]
     },
     "execution_count": 16,
     "metadata": {},
     "output_type": "execute_result"
    }
   ],
   "source": [
    "df_sentiment_delta_positive.head()"
   ]
  },
  {
   "cell_type": "code",
   "execution_count": 17,
   "metadata": {},
   "outputs": [
    {
     "data": {
      "text/plain": [
       "(544, 2)"
      ]
     },
     "execution_count": 17,
     "metadata": {},
     "output_type": "execute_result"
    }
   ],
   "source": [
    "df_sentiment_delta_positive.shape"
   ]
  },
  {
   "cell_type": "markdown",
   "metadata": {},
   "source": [
    "selecting names when airline is Delta and tweet location is USA"
   ]
  },
  {
   "cell_type": "code",
   "execution_count": 18,
   "metadata": {},
   "outputs": [],
   "source": [
    "df_name_delta_USA = pd.read_sql_query('SELECT tweet_id, name FROM Tweets WHERE airline = \"Delta\" AND tweet_location = \"USA\"',con)"
   ]
  },
  {
   "cell_type": "code",
   "execution_count": 19,
   "metadata": {
    "scrolled": true
   },
   "outputs": [
    {
     "data": {
      "text/html": [
       "<div>\n",
       "<style scoped>\n",
       "    .dataframe tbody tr th:only-of-type {\n",
       "        vertical-align: middle;\n",
       "    }\n",
       "\n",
       "    .dataframe tbody tr th {\n",
       "        vertical-align: top;\n",
       "    }\n",
       "\n",
       "    .dataframe thead th {\n",
       "        text-align: right;\n",
       "    }\n",
       "</style>\n",
       "<table border=\"1\" class=\"dataframe\">\n",
       "  <thead>\n",
       "    <tr style=\"text-align: right;\">\n",
       "      <th></th>\n",
       "      <th>tweet_id</th>\n",
       "      <th>name</th>\n",
       "    </tr>\n",
       "  </thead>\n",
       "  <tbody>\n",
       "    <tr>\n",
       "      <th>0</th>\n",
       "      <td>567588278875213824</td>\n",
       "      <td>JetBlueNews</td>\n",
       "    </tr>\n",
       "    <tr>\n",
       "      <th>1</th>\n",
       "      <td>567716378681933825</td>\n",
       "      <td>JetBlueNews</td>\n",
       "    </tr>\n",
       "    <tr>\n",
       "      <th>2</th>\n",
       "      <td>567724178317402112</td>\n",
       "      <td>JetBlueNews</td>\n",
       "    </tr>\n",
       "    <tr>\n",
       "      <th>3</th>\n",
       "      <td>567746576626356225</td>\n",
       "      <td>JetBlueNews</td>\n",
       "    </tr>\n",
       "    <tr>\n",
       "      <th>4</th>\n",
       "      <td>567754367860633600</td>\n",
       "      <td>JetBlueNews</td>\n",
       "    </tr>\n",
       "  </tbody>\n",
       "</table>\n",
       "</div>"
      ],
      "text/plain": [
       "             tweet_id         name\n",
       "0  567588278875213824  JetBlueNews\n",
       "1  567716378681933825  JetBlueNews\n",
       "2  567724178317402112  JetBlueNews\n",
       "3  567746576626356225  JetBlueNews\n",
       "4  567754367860633600  JetBlueNews"
      ]
     },
     "execution_count": 19,
     "metadata": {},
     "output_type": "execute_result"
    }
   ],
   "source": [
    "df_name_delta_USA.head()"
   ]
  },
  {
   "cell_type": "code",
   "execution_count": 20,
   "metadata": {},
   "outputs": [
    {
     "data": {
      "text/plain": [
       "(71, 2)"
      ]
     },
     "execution_count": 20,
     "metadata": {},
     "output_type": "execute_result"
    }
   ],
   "source": [
    "df_name_delta_USA.shape"
   ]
  },
  {
   "cell_type": "markdown",
   "metadata": {},
   "source": [
    "selecting text of tweets when airline is either Delta or US Airways"
   ]
  },
  {
   "cell_type": "code",
   "execution_count": 21,
   "metadata": {},
   "outputs": [],
   "source": [
    "df_text_delta_USAirways = pd.read_sql_query('SELECT tweet_id, text FROM Tweets WHERE airline = \"Delta\" OR airline = \"US Airways\"',con)"
   ]
  },
  {
   "cell_type": "code",
   "execution_count": 22,
   "metadata": {
    "scrolled": true
   },
   "outputs": [
    {
     "data": {
      "text/html": [
       "<div>\n",
       "<style scoped>\n",
       "    .dataframe tbody tr th:only-of-type {\n",
       "        vertical-align: middle;\n",
       "    }\n",
       "\n",
       "    .dataframe tbody tr th {\n",
       "        vertical-align: top;\n",
       "    }\n",
       "\n",
       "    .dataframe thead th {\n",
       "        text-align: right;\n",
       "    }\n",
       "</style>\n",
       "<table border=\"1\" class=\"dataframe\">\n",
       "  <thead>\n",
       "    <tr style=\"text-align: right;\">\n",
       "      <th></th>\n",
       "      <th>tweet_id</th>\n",
       "      <th>text</th>\n",
       "    </tr>\n",
       "  </thead>\n",
       "  <tbody>\n",
       "    <tr>\n",
       "      <th>0</th>\n",
       "      <td>567588278875213824</td>\n",
       "      <td>@JetBlue's new CEO seeks the right balance to ...</td>\n",
       "    </tr>\n",
       "    <tr>\n",
       "      <th>1</th>\n",
       "      <td>567590027375702016</td>\n",
       "      <td>@JetBlue is REALLY getting on my nerves !! 😡😡 ...</td>\n",
       "    </tr>\n",
       "    <tr>\n",
       "      <th>2</th>\n",
       "      <td>567643252753694721</td>\n",
       "      <td>@USAirways how's us 1797 looking today?</td>\n",
       "    </tr>\n",
       "    <tr>\n",
       "      <th>3</th>\n",
       "      <td>567667301067915264</td>\n",
       "      <td>@JetBlue CEO weighs profits, flyers - @Chronic...</td>\n",
       "    </tr>\n",
       "    <tr>\n",
       "      <th>4</th>\n",
       "      <td>567670985403285504</td>\n",
       "      <td>@USAirways @AmericanAir How r u supposed to ch...</td>\n",
       "    </tr>\n",
       "  </tbody>\n",
       "</table>\n",
       "</div>"
      ],
      "text/plain": [
       "             tweet_id                                               text\n",
       "0  567588278875213824  @JetBlue's new CEO seeks the right balance to ...\n",
       "1  567590027375702016  @JetBlue is REALLY getting on my nerves !! 😡😡 ...\n",
       "2  567643252753694721            @USAirways how's us 1797 looking today?\n",
       "3  567667301067915264  @JetBlue CEO weighs profits, flyers - @Chronic...\n",
       "4  567670985403285504  @USAirways @AmericanAir How r u supposed to ch..."
      ]
     },
     "execution_count": 22,
     "metadata": {},
     "output_type": "execute_result"
    }
   ],
   "source": [
    "df_text_delta_USAirways.head()"
   ]
  },
  {
   "cell_type": "markdown",
   "metadata": {},
   "source": [
    "### Merging queries"
   ]
  },
  {
   "cell_type": "markdown",
   "metadata": {},
   "source": [
    "**inner merge**"
   ]
  },
  {
   "cell_type": "code",
   "execution_count": 23,
   "metadata": {},
   "outputs": [],
   "source": [
    "df_merged_delta_inner = pd.merge(df_sentiment_delta_positive, df_name_delta_USA, on = 'tweet_id', how = 'inner')"
   ]
  },
  {
   "cell_type": "code",
   "execution_count": 24,
   "metadata": {},
   "outputs": [
    {
     "data": {
      "text/plain": [
       "(6, 3)"
      ]
     },
     "execution_count": 24,
     "metadata": {},
     "output_type": "execute_result"
    }
   ],
   "source": [
    "df_merged_delta_inner.shape"
   ]
  },
  {
   "cell_type": "code",
   "execution_count": 25,
   "metadata": {},
   "outputs": [
    {
     "data": {
      "text/html": [
       "<div>\n",
       "<style scoped>\n",
       "    .dataframe tbody tr th:only-of-type {\n",
       "        vertical-align: middle;\n",
       "    }\n",
       "\n",
       "    .dataframe tbody tr th {\n",
       "        vertical-align: top;\n",
       "    }\n",
       "\n",
       "    .dataframe thead th {\n",
       "        text-align: right;\n",
       "    }\n",
       "</style>\n",
       "<table border=\"1\" class=\"dataframe\">\n",
       "  <thead>\n",
       "    <tr style=\"text-align: right;\">\n",
       "      <th></th>\n",
       "      <th>tweet_id</th>\n",
       "      <th>airline_sentiment_confidence</th>\n",
       "      <th>name</th>\n",
       "    </tr>\n",
       "  </thead>\n",
       "  <tbody>\n",
       "    <tr>\n",
       "      <th>0</th>\n",
       "      <td>567724178317402112</td>\n",
       "      <td>0.6429</td>\n",
       "      <td>JetBlueNews</td>\n",
       "    </tr>\n",
       "    <tr>\n",
       "      <th>1</th>\n",
       "      <td>567814769077436416</td>\n",
       "      <td>0.6591</td>\n",
       "      <td>JetBlueNews</td>\n",
       "    </tr>\n",
       "    <tr>\n",
       "      <th>2</th>\n",
       "      <td>568101669809946624</td>\n",
       "      <td>0.6730</td>\n",
       "      <td>JetBlueNews</td>\n",
       "    </tr>\n",
       "    <tr>\n",
       "      <th>3</th>\n",
       "      <td>568335451741749248</td>\n",
       "      <td>0.6465</td>\n",
       "      <td>JetBlueNews</td>\n",
       "    </tr>\n",
       "    <tr>\n",
       "      <th>4</th>\n",
       "      <td>568924327275401218</td>\n",
       "      <td>0.6544</td>\n",
       "      <td>JetBlueNews</td>\n",
       "    </tr>\n",
       "  </tbody>\n",
       "</table>\n",
       "</div>"
      ],
      "text/plain": [
       "             tweet_id  airline_sentiment_confidence         name\n",
       "0  567724178317402112                        0.6429  JetBlueNews\n",
       "1  567814769077436416                        0.6591  JetBlueNews\n",
       "2  568101669809946624                        0.6730  JetBlueNews\n",
       "3  568335451741749248                        0.6465  JetBlueNews\n",
       "4  568924327275401218                        0.6544  JetBlueNews"
      ]
     },
     "execution_count": 25,
     "metadata": {},
     "output_type": "execute_result"
    }
   ],
   "source": [
    "df_merged_delta_inner.head()"
   ]
  },
  {
   "cell_type": "markdown",
   "metadata": {},
   "source": [
    "**Left merge**"
   ]
  },
  {
   "cell_type": "code",
   "execution_count": 26,
   "metadata": {},
   "outputs": [],
   "source": [
    "df_merged_delta_left = pd.merge(df_sentiment_delta_positive, df_name_delta_USA, on = 'tweet_id', how = 'left')"
   ]
  },
  {
   "cell_type": "code",
   "execution_count": 27,
   "metadata": {},
   "outputs": [
    {
     "data": {
      "text/plain": [
       "(544, 3)"
      ]
     },
     "execution_count": 27,
     "metadata": {},
     "output_type": "execute_result"
    }
   ],
   "source": [
    "df_merged_delta_left.shape"
   ]
  },
  {
   "cell_type": "code",
   "execution_count": 28,
   "metadata": {},
   "outputs": [
    {
     "data": {
      "text/html": [
       "<div>\n",
       "<style scoped>\n",
       "    .dataframe tbody tr th:only-of-type {\n",
       "        vertical-align: middle;\n",
       "    }\n",
       "\n",
       "    .dataframe tbody tr th {\n",
       "        vertical-align: top;\n",
       "    }\n",
       "\n",
       "    .dataframe thead th {\n",
       "        text-align: right;\n",
       "    }\n",
       "</style>\n",
       "<table border=\"1\" class=\"dataframe\">\n",
       "  <thead>\n",
       "    <tr style=\"text-align: right;\">\n",
       "      <th></th>\n",
       "      <th>tweet_id</th>\n",
       "      <th>airline_sentiment_confidence</th>\n",
       "      <th>name</th>\n",
       "    </tr>\n",
       "  </thead>\n",
       "  <tbody>\n",
       "    <tr>\n",
       "      <th>0</th>\n",
       "      <td>567671602280923136</td>\n",
       "      <td>1.0000</td>\n",
       "      <td>NaN</td>\n",
       "    </tr>\n",
       "    <tr>\n",
       "      <th>1</th>\n",
       "      <td>567680108002291712</td>\n",
       "      <td>0.6645</td>\n",
       "      <td>NaN</td>\n",
       "    </tr>\n",
       "    <tr>\n",
       "      <th>2</th>\n",
       "      <td>567724178317402112</td>\n",
       "      <td>0.6429</td>\n",
       "      <td>JetBlueNews</td>\n",
       "    </tr>\n",
       "    <tr>\n",
       "      <th>3</th>\n",
       "      <td>567727329783582720</td>\n",
       "      <td>1.0000</td>\n",
       "      <td>NaN</td>\n",
       "    </tr>\n",
       "    <tr>\n",
       "      <th>4</th>\n",
       "      <td>567727526777073664</td>\n",
       "      <td>1.0000</td>\n",
       "      <td>NaN</td>\n",
       "    </tr>\n",
       "  </tbody>\n",
       "</table>\n",
       "</div>"
      ],
      "text/plain": [
       "             tweet_id  airline_sentiment_confidence         name\n",
       "0  567671602280923136                        1.0000          NaN\n",
       "1  567680108002291712                        0.6645          NaN\n",
       "2  567724178317402112                        0.6429  JetBlueNews\n",
       "3  567727329783582720                        1.0000          NaN\n",
       "4  567727526777073664                        1.0000          NaN"
      ]
     },
     "execution_count": 28,
     "metadata": {},
     "output_type": "execute_result"
    }
   ],
   "source": [
    "df_merged_delta_left.head()"
   ]
  },
  {
   "cell_type": "markdown",
   "metadata": {},
   "source": [
    "**right merge**"
   ]
  },
  {
   "cell_type": "code",
   "execution_count": 29,
   "metadata": {},
   "outputs": [],
   "source": [
    "df_merged_delta_right = pd.merge(df_sentiment_delta_positive, df_name_delta_USA, on = 'tweet_id', how = 'right')"
   ]
  },
  {
   "cell_type": "code",
   "execution_count": 30,
   "metadata": {
    "scrolled": false
   },
   "outputs": [
    {
     "data": {
      "text/plain": [
       "(71, 3)"
      ]
     },
     "execution_count": 30,
     "metadata": {},
     "output_type": "execute_result"
    }
   ],
   "source": [
    "df_merged_delta_right.shape"
   ]
  },
  {
   "cell_type": "code",
   "execution_count": 31,
   "metadata": {},
   "outputs": [
    {
     "data": {
      "text/html": [
       "<div>\n",
       "<style scoped>\n",
       "    .dataframe tbody tr th:only-of-type {\n",
       "        vertical-align: middle;\n",
       "    }\n",
       "\n",
       "    .dataframe tbody tr th {\n",
       "        vertical-align: top;\n",
       "    }\n",
       "\n",
       "    .dataframe thead th {\n",
       "        text-align: right;\n",
       "    }\n",
       "</style>\n",
       "<table border=\"1\" class=\"dataframe\">\n",
       "  <thead>\n",
       "    <tr style=\"text-align: right;\">\n",
       "      <th></th>\n",
       "      <th>tweet_id</th>\n",
       "      <th>airline_sentiment_confidence</th>\n",
       "      <th>name</th>\n",
       "    </tr>\n",
       "  </thead>\n",
       "  <tbody>\n",
       "    <tr>\n",
       "      <th>0</th>\n",
       "      <td>567588278875213824</td>\n",
       "      <td>NaN</td>\n",
       "      <td>JetBlueNews</td>\n",
       "    </tr>\n",
       "    <tr>\n",
       "      <th>1</th>\n",
       "      <td>567716378681933825</td>\n",
       "      <td>NaN</td>\n",
       "      <td>JetBlueNews</td>\n",
       "    </tr>\n",
       "    <tr>\n",
       "      <th>2</th>\n",
       "      <td>567724178317402112</td>\n",
       "      <td>0.6429</td>\n",
       "      <td>JetBlueNews</td>\n",
       "    </tr>\n",
       "    <tr>\n",
       "      <th>3</th>\n",
       "      <td>567746576626356225</td>\n",
       "      <td>NaN</td>\n",
       "      <td>JetBlueNews</td>\n",
       "    </tr>\n",
       "    <tr>\n",
       "      <th>4</th>\n",
       "      <td>567754367860633600</td>\n",
       "      <td>NaN</td>\n",
       "      <td>JetBlueNews</td>\n",
       "    </tr>\n",
       "  </tbody>\n",
       "</table>\n",
       "</div>"
      ],
      "text/plain": [
       "             tweet_id  airline_sentiment_confidence         name\n",
       "0  567588278875213824                           NaN  JetBlueNews\n",
       "1  567716378681933825                           NaN  JetBlueNews\n",
       "2  567724178317402112                        0.6429  JetBlueNews\n",
       "3  567746576626356225                           NaN  JetBlueNews\n",
       "4  567754367860633600                           NaN  JetBlueNews"
      ]
     },
     "execution_count": 31,
     "metadata": {},
     "output_type": "execute_result"
    }
   ],
   "source": [
    "df_merged_delta_right.head()"
   ]
  },
  {
   "cell_type": "markdown",
   "metadata": {},
   "source": [
    "**outer merge**"
   ]
  },
  {
   "cell_type": "code",
   "execution_count": 32,
   "metadata": {},
   "outputs": [],
   "source": [
    "df_merged_delta_outer = pd.merge(df_sentiment_delta_positive, df_name_delta_USA, on = 'tweet_id', how = 'outer')"
   ]
  },
  {
   "cell_type": "code",
   "execution_count": 33,
   "metadata": {},
   "outputs": [
    {
     "data": {
      "text/plain": [
       "(609, 3)"
      ]
     },
     "execution_count": 33,
     "metadata": {},
     "output_type": "execute_result"
    }
   ],
   "source": [
    "df_merged_delta_outer.shape"
   ]
  },
  {
   "cell_type": "code",
   "execution_count": 34,
   "metadata": {},
   "outputs": [
    {
     "data": {
      "text/html": [
       "<div>\n",
       "<style scoped>\n",
       "    .dataframe tbody tr th:only-of-type {\n",
       "        vertical-align: middle;\n",
       "    }\n",
       "\n",
       "    .dataframe tbody tr th {\n",
       "        vertical-align: top;\n",
       "    }\n",
       "\n",
       "    .dataframe thead th {\n",
       "        text-align: right;\n",
       "    }\n",
       "</style>\n",
       "<table border=\"1\" class=\"dataframe\">\n",
       "  <thead>\n",
       "    <tr style=\"text-align: right;\">\n",
       "      <th></th>\n",
       "      <th>tweet_id</th>\n",
       "      <th>airline_sentiment_confidence</th>\n",
       "      <th>name</th>\n",
       "    </tr>\n",
       "  </thead>\n",
       "  <tbody>\n",
       "    <tr>\n",
       "      <th>0</th>\n",
       "      <td>567671602280923136</td>\n",
       "      <td>1.0000</td>\n",
       "      <td>NaN</td>\n",
       "    </tr>\n",
       "    <tr>\n",
       "      <th>1</th>\n",
       "      <td>567680108002291712</td>\n",
       "      <td>0.6645</td>\n",
       "      <td>NaN</td>\n",
       "    </tr>\n",
       "    <tr>\n",
       "      <th>2</th>\n",
       "      <td>567724178317402112</td>\n",
       "      <td>0.6429</td>\n",
       "      <td>JetBlueNews</td>\n",
       "    </tr>\n",
       "    <tr>\n",
       "      <th>3</th>\n",
       "      <td>567727329783582720</td>\n",
       "      <td>1.0000</td>\n",
       "      <td>NaN</td>\n",
       "    </tr>\n",
       "    <tr>\n",
       "      <th>4</th>\n",
       "      <td>567727526777073664</td>\n",
       "      <td>1.0000</td>\n",
       "      <td>NaN</td>\n",
       "    </tr>\n",
       "  </tbody>\n",
       "</table>\n",
       "</div>"
      ],
      "text/plain": [
       "             tweet_id  airline_sentiment_confidence         name\n",
       "0  567671602280923136                        1.0000          NaN\n",
       "1  567680108002291712                        0.6645          NaN\n",
       "2  567724178317402112                        0.6429  JetBlueNews\n",
       "3  567727329783582720                        1.0000          NaN\n",
       "4  567727526777073664                        1.0000          NaN"
      ]
     },
     "execution_count": 34,
     "metadata": {},
     "output_type": "execute_result"
    }
   ],
   "source": [
    "df_merged_delta_outer.head()"
   ]
  },
  {
   "cell_type": "markdown",
   "metadata": {},
   "source": [
    "**Limiting loaded data**"
   ]
  },
  {
   "cell_type": "markdown",
   "metadata": {},
   "source": [
    "We can make a limit for the number of rows we are getting by using \"LIMIT\" keyword in the query."
   ]
  },
  {
   "cell_type": "code",
   "execution_count": 35,
   "metadata": {},
   "outputs": [
    {
     "data": {
      "text/html": [
       "<div>\n",
       "<style scoped>\n",
       "    .dataframe tbody tr th:only-of-type {\n",
       "        vertical-align: middle;\n",
       "    }\n",
       "\n",
       "    .dataframe tbody tr th {\n",
       "        vertical-align: top;\n",
       "    }\n",
       "\n",
       "    .dataframe thead th {\n",
       "        text-align: right;\n",
       "    }\n",
       "</style>\n",
       "<table border=\"1\" class=\"dataframe\">\n",
       "  <thead>\n",
       "    <tr style=\"text-align: right;\">\n",
       "      <th></th>\n",
       "      <th>tweet_id</th>\n",
       "      <th>airline_sentiment</th>\n",
       "      <th>airline_sentiment_confidence</th>\n",
       "      <th>negativereason</th>\n",
       "      <th>negativereason_confidence</th>\n",
       "      <th>airline</th>\n",
       "      <th>airline_sentiment_gold</th>\n",
       "      <th>name</th>\n",
       "      <th>negativereason_gold</th>\n",
       "      <th>retweet_count</th>\n",
       "      <th>text</th>\n",
       "      <th>tweet_coord</th>\n",
       "      <th>tweet_created</th>\n",
       "      <th>tweet_location</th>\n",
       "      <th>user_timezone</th>\n",
       "    </tr>\n",
       "  </thead>\n",
       "  <tbody>\n",
       "    <tr>\n",
       "      <th>0</th>\n",
       "      <td>567588278875213824</td>\n",
       "      <td>neutral</td>\n",
       "      <td>1</td>\n",
       "      <td></td>\n",
       "      <td></td>\n",
       "      <td>Delta</td>\n",
       "      <td></td>\n",
       "      <td>JetBlueNews</td>\n",
       "      <td></td>\n",
       "      <td>0</td>\n",
       "      <td>@JetBlue's new CEO seeks the right balance to ...</td>\n",
       "      <td></td>\n",
       "      <td>2015-02-16 23:36:05 -0800</td>\n",
       "      <td>USA</td>\n",
       "      <td>Sydney</td>\n",
       "    </tr>\n",
       "    <tr>\n",
       "      <th>1</th>\n",
       "      <td>567590027375702016</td>\n",
       "      <td>negative</td>\n",
       "      <td>1</td>\n",
       "      <td>Can't Tell</td>\n",
       "      <td>0.6503</td>\n",
       "      <td>Delta</td>\n",
       "      <td></td>\n",
       "      <td>nesi_1992</td>\n",
       "      <td></td>\n",
       "      <td>0</td>\n",
       "      <td>@JetBlue is REALLY getting on my nerves !! 😡😡 ...</td>\n",
       "      <td></td>\n",
       "      <td>2015-02-16 23:43:02 -0800</td>\n",
       "      <td>undecided</td>\n",
       "      <td>Pacific Time (US &amp; Canada)</td>\n",
       "    </tr>\n",
       "    <tr>\n",
       "      <th>2</th>\n",
       "      <td>567591480085463040</td>\n",
       "      <td>negative</td>\n",
       "      <td>1</td>\n",
       "      <td>Late Flight</td>\n",
       "      <td>0.346</td>\n",
       "      <td>United</td>\n",
       "      <td></td>\n",
       "      <td>CPoutloud</td>\n",
       "      <td></td>\n",
       "      <td>0</td>\n",
       "      <td>@united yes. We waited in line for almost an h...</td>\n",
       "      <td></td>\n",
       "      <td>2015-02-16 23:48:48 -0800</td>\n",
       "      <td>Washington, DC</td>\n",
       "      <td></td>\n",
       "    </tr>\n",
       "    <tr>\n",
       "      <th>3</th>\n",
       "      <td>567592368451248130</td>\n",
       "      <td>negative</td>\n",
       "      <td>1</td>\n",
       "      <td>Late Flight</td>\n",
       "      <td>1</td>\n",
       "      <td>United</td>\n",
       "      <td></td>\n",
       "      <td>brenduch</td>\n",
       "      <td></td>\n",
       "      <td>0</td>\n",
       "      <td>@united the we got into the gate at IAH on tim...</td>\n",
       "      <td></td>\n",
       "      <td>2015-02-16 23:52:20 -0800</td>\n",
       "      <td></td>\n",
       "      <td>Buenos Aires</td>\n",
       "    </tr>\n",
       "    <tr>\n",
       "      <th>4</th>\n",
       "      <td>567594449874587648</td>\n",
       "      <td>negative</td>\n",
       "      <td>1</td>\n",
       "      <td>Customer Service Issue</td>\n",
       "      <td>0.3451</td>\n",
       "      <td>Southwest</td>\n",
       "      <td></td>\n",
       "      <td>VahidESQ</td>\n",
       "      <td></td>\n",
       "      <td>0</td>\n",
       "      <td>@SouthwestAir its cool that my bags take a bit...</td>\n",
       "      <td></td>\n",
       "      <td>2015-02-17 00:00:36 -0800</td>\n",
       "      <td>Los Angeles, CA</td>\n",
       "      <td>Pacific Time (US &amp; Canada)</td>\n",
       "    </tr>\n",
       "    <tr>\n",
       "      <th>5</th>\n",
       "      <td>567594579310825473</td>\n",
       "      <td>negative</td>\n",
       "      <td>1</td>\n",
       "      <td>Bad Flight</td>\n",
       "      <td>0.6707</td>\n",
       "      <td>United</td>\n",
       "      <td></td>\n",
       "      <td>brenduch</td>\n",
       "      <td></td>\n",
       "      <td>0</td>\n",
       "      <td>@united and don't hope for me having a nicer f...</td>\n",
       "      <td></td>\n",
       "      <td>2015-02-17 00:01:07 -0800</td>\n",
       "      <td></td>\n",
       "      <td>Buenos Aires</td>\n",
       "    </tr>\n",
       "    <tr>\n",
       "      <th>6</th>\n",
       "      <td>567595670463205376</td>\n",
       "      <td>negative</td>\n",
       "      <td>1</td>\n",
       "      <td>Late Flight</td>\n",
       "      <td>1</td>\n",
       "      <td>United</td>\n",
       "      <td></td>\n",
       "      <td>CRomerDome</td>\n",
       "      <td></td>\n",
       "      <td>0</td>\n",
       "      <td>@united I like delays less than you because I'...</td>\n",
       "      <td></td>\n",
       "      <td>2015-02-17 00:05:27 -0800</td>\n",
       "      <td>Portland, OR</td>\n",
       "      <td>Pacific Time (US &amp; Canada)</td>\n",
       "    </tr>\n",
       "    <tr>\n",
       "      <th>7</th>\n",
       "      <td>567614049425555457</td>\n",
       "      <td>negative</td>\n",
       "      <td>1</td>\n",
       "      <td>Customer Service Issue</td>\n",
       "      <td>0.3545</td>\n",
       "      <td>United</td>\n",
       "      <td></td>\n",
       "      <td>JustOGG</td>\n",
       "      <td></td>\n",
       "      <td>0</td>\n",
       "      <td>@united, link to current status of flights/air...</td>\n",
       "      <td></td>\n",
       "      <td>2015-02-17 01:18:29 -0800</td>\n",
       "      <td>Tweets = My Opinion</td>\n",
       "      <td>Eastern Time (US &amp; Canada)</td>\n",
       "    </tr>\n",
       "    <tr>\n",
       "      <th>8</th>\n",
       "      <td>567617081336950784</td>\n",
       "      <td>negative</td>\n",
       "      <td>1</td>\n",
       "      <td>Customer Service Issue</td>\n",
       "      <td>1</td>\n",
       "      <td>Southwest</td>\n",
       "      <td></td>\n",
       "      <td>mrshossruns</td>\n",
       "      <td></td>\n",
       "      <td>0</td>\n",
       "      <td>@SouthwestAir you guys there? Are we on hour 2...</td>\n",
       "      <td></td>\n",
       "      <td>2015-02-17 01:30:32 -0800</td>\n",
       "      <td></td>\n",
       "      <td>Eastern Time (US &amp; Canada)</td>\n",
       "    </tr>\n",
       "    <tr>\n",
       "      <th>9</th>\n",
       "      <td>567617486703853568</td>\n",
       "      <td>negative</td>\n",
       "      <td>1</td>\n",
       "      <td>Customer Service Issue</td>\n",
       "      <td>0.6797</td>\n",
       "      <td>United</td>\n",
       "      <td></td>\n",
       "      <td>feliciastoler</td>\n",
       "      <td></td>\n",
       "      <td>0</td>\n",
       "      <td>@united I tried 2 DM it would not go thru... n...</td>\n",
       "      <td>[0.0, 0.0]</td>\n",
       "      <td>2015-02-17 01:32:09 -0800</td>\n",
       "      <td>New Jersey</td>\n",
       "      <td>Central Time (US &amp; Canada)</td>\n",
       "    </tr>\n",
       "  </tbody>\n",
       "</table>\n",
       "</div>"
      ],
      "text/plain": [
       "             tweet_id airline_sentiment  airline_sentiment_confidence  \\\n",
       "0  567588278875213824           neutral                             1   \n",
       "1  567590027375702016          negative                             1   \n",
       "2  567591480085463040          negative                             1   \n",
       "3  567592368451248130          negative                             1   \n",
       "4  567594449874587648          negative                             1   \n",
       "5  567594579310825473          negative                             1   \n",
       "6  567595670463205376          negative                             1   \n",
       "7  567614049425555457          negative                             1   \n",
       "8  567617081336950784          negative                             1   \n",
       "9  567617486703853568          negative                             1   \n",
       "\n",
       "           negativereason negativereason_confidence    airline  \\\n",
       "0                                                        Delta   \n",
       "1              Can't Tell                    0.6503      Delta   \n",
       "2             Late Flight                     0.346     United   \n",
       "3             Late Flight                         1     United   \n",
       "4  Customer Service Issue                    0.3451  Southwest   \n",
       "5              Bad Flight                    0.6707     United   \n",
       "6             Late Flight                         1     United   \n",
       "7  Customer Service Issue                    0.3545     United   \n",
       "8  Customer Service Issue                         1  Southwest   \n",
       "9  Customer Service Issue                    0.6797     United   \n",
       "\n",
       "  airline_sentiment_gold           name negativereason_gold  retweet_count  \\\n",
       "0                           JetBlueNews                                  0   \n",
       "1                             nesi_1992                                  0   \n",
       "2                             CPoutloud                                  0   \n",
       "3                              brenduch                                  0   \n",
       "4                              VahidESQ                                  0   \n",
       "5                              brenduch                                  0   \n",
       "6                            CRomerDome                                  0   \n",
       "7                               JustOGG                                  0   \n",
       "8                           mrshossruns                                  0   \n",
       "9                         feliciastoler                                  0   \n",
       "\n",
       "                                                text tweet_coord  \\\n",
       "0  @JetBlue's new CEO seeks the right balance to ...               \n",
       "1  @JetBlue is REALLY getting on my nerves !! 😡😡 ...               \n",
       "2  @united yes. We waited in line for almost an h...               \n",
       "3  @united the we got into the gate at IAH on tim...               \n",
       "4  @SouthwestAir its cool that my bags take a bit...               \n",
       "5  @united and don't hope for me having a nicer f...               \n",
       "6  @united I like delays less than you because I'...               \n",
       "7  @united, link to current status of flights/air...               \n",
       "8  @SouthwestAir you guys there? Are we on hour 2...               \n",
       "9  @united I tried 2 DM it would not go thru... n...  [0.0, 0.0]   \n",
       "\n",
       "               tweet_created       tweet_location               user_timezone  \n",
       "0  2015-02-16 23:36:05 -0800                  USA                      Sydney  \n",
       "1  2015-02-16 23:43:02 -0800            undecided  Pacific Time (US & Canada)  \n",
       "2  2015-02-16 23:48:48 -0800       Washington, DC                              \n",
       "3  2015-02-16 23:52:20 -0800                                     Buenos Aires  \n",
       "4  2015-02-17 00:00:36 -0800      Los Angeles, CA  Pacific Time (US & Canada)  \n",
       "5  2015-02-17 00:01:07 -0800                                     Buenos Aires  \n",
       "6  2015-02-17 00:05:27 -0800         Portland, OR  Pacific Time (US & Canada)  \n",
       "7  2015-02-17 01:18:29 -0800  Tweets = My Opinion  Eastern Time (US & Canada)  \n",
       "8  2015-02-17 01:30:32 -0800                       Eastern Time (US & Canada)  \n",
       "9  2015-02-17 01:32:09 -0800           New Jersey  Central Time (US & Canada)  "
      ]
     },
     "execution_count": 35,
     "metadata": {},
     "output_type": "execute_result"
    }
   ],
   "source": [
    "pd.read_sql_query(\"SELECT * FROM Tweets LIMIT 10\",con)"
   ]
  },
  {
   "cell_type": "markdown",
   "metadata": {},
   "source": [
    "## Cleaning dataframes"
   ]
  },
  {
   "cell_type": "markdown",
   "metadata": {},
   "source": [
    "we can drop rows with rows  with NaN values. "
   ]
  },
  {
   "cell_type": "code",
   "execution_count": 36,
   "metadata": {},
   "outputs": [],
   "source": [
    "df_merged_delta_right.dropna(how='any',inplace=True)"
   ]
  },
  {
   "cell_type": "code",
   "execution_count": 37,
   "metadata": {},
   "outputs": [
    {
     "data": {
      "text/plain": [
       "(6, 3)"
      ]
     },
     "execution_count": 37,
     "metadata": {},
     "output_type": "execute_result"
    }
   ],
   "source": [
    "df_merged_delta_right.shape"
   ]
  },
  {
   "cell_type": "markdown",
   "metadata": {},
   "source": [
    "And assign tweet_id as the index for the dataframe"
   ]
  },
  {
   "cell_type": "code",
   "execution_count": 38,
   "metadata": {},
   "outputs": [
    {
     "data": {
      "text/html": [
       "<div>\n",
       "<style scoped>\n",
       "    .dataframe tbody tr th:only-of-type {\n",
       "        vertical-align: middle;\n",
       "    }\n",
       "\n",
       "    .dataframe tbody tr th {\n",
       "        vertical-align: top;\n",
       "    }\n",
       "\n",
       "    .dataframe thead th {\n",
       "        text-align: right;\n",
       "    }\n",
       "</style>\n",
       "<table border=\"1\" class=\"dataframe\">\n",
       "  <thead>\n",
       "    <tr style=\"text-align: right;\">\n",
       "      <th></th>\n",
       "      <th>airline_sentiment_confidence</th>\n",
       "      <th>name</th>\n",
       "    </tr>\n",
       "    <tr>\n",
       "      <th>tweet_id</th>\n",
       "      <th></th>\n",
       "      <th></th>\n",
       "    </tr>\n",
       "  </thead>\n",
       "  <tbody>\n",
       "    <tr>\n",
       "      <th>567724178317402112</th>\n",
       "      <td>0.6429</td>\n",
       "      <td>JetBlueNews</td>\n",
       "    </tr>\n",
       "    <tr>\n",
       "      <th>567814769077436416</th>\n",
       "      <td>0.6591</td>\n",
       "      <td>JetBlueNews</td>\n",
       "    </tr>\n",
       "    <tr>\n",
       "      <th>568101669809946624</th>\n",
       "      <td>0.6730</td>\n",
       "      <td>JetBlueNews</td>\n",
       "    </tr>\n",
       "    <tr>\n",
       "      <th>568335451741749248</th>\n",
       "      <td>0.6465</td>\n",
       "      <td>JetBlueNews</td>\n",
       "    </tr>\n",
       "    <tr>\n",
       "      <th>568924327275401218</th>\n",
       "      <td>0.6544</td>\n",
       "      <td>JetBlueNews</td>\n",
       "    </tr>\n",
       "    <tr>\n",
       "      <th>569899437662863360</th>\n",
       "      <td>1.0000</td>\n",
       "      <td>Balhajji</td>\n",
       "    </tr>\n",
       "  </tbody>\n",
       "</table>\n",
       "</div>"
      ],
      "text/plain": [
       "                    airline_sentiment_confidence         name\n",
       "tweet_id                                                     \n",
       "567724178317402112                        0.6429  JetBlueNews\n",
       "567814769077436416                        0.6591  JetBlueNews\n",
       "568101669809946624                        0.6730  JetBlueNews\n",
       "568335451741749248                        0.6465  JetBlueNews\n",
       "568924327275401218                        0.6544  JetBlueNews\n",
       "569899437662863360                        1.0000     Balhajji"
      ]
     },
     "execution_count": 38,
     "metadata": {},
     "output_type": "execute_result"
    }
   ],
   "source": [
    "df_merged_delta_right.set_index('tweet_id', drop = True)"
   ]
  },
  {
   "cell_type": "markdown",
   "metadata": {},
   "source": [
    "**We can see the average airline_sentiment_confidence for each name**"
   ]
  },
  {
   "cell_type": "code",
   "execution_count": 39,
   "metadata": {},
   "outputs": [
    {
     "data": {
      "text/html": [
       "<div>\n",
       "<style scoped>\n",
       "    .dataframe tbody tr th:only-of-type {\n",
       "        vertical-align: middle;\n",
       "    }\n",
       "\n",
       "    .dataframe tbody tr th {\n",
       "        vertical-align: top;\n",
       "    }\n",
       "\n",
       "    .dataframe thead th {\n",
       "        text-align: right;\n",
       "    }\n",
       "</style>\n",
       "<table border=\"1\" class=\"dataframe\">\n",
       "  <thead>\n",
       "    <tr style=\"text-align: right;\">\n",
       "      <th></th>\n",
       "      <th>name</th>\n",
       "      <th>airline_sentiment_confidence</th>\n",
       "    </tr>\n",
       "  </thead>\n",
       "  <tbody>\n",
       "    <tr>\n",
       "      <th>0</th>\n",
       "      <td>Balhajji</td>\n",
       "      <td>1.00000</td>\n",
       "    </tr>\n",
       "    <tr>\n",
       "      <th>1</th>\n",
       "      <td>JetBlueNews</td>\n",
       "      <td>0.65518</td>\n",
       "    </tr>\n",
       "  </tbody>\n",
       "</table>\n",
       "</div>"
      ],
      "text/plain": [
       "          name  airline_sentiment_confidence\n",
       "0     Balhajji                       1.00000\n",
       "1  JetBlueNews                       0.65518"
      ]
     },
     "execution_count": 39,
     "metadata": {},
     "output_type": "execute_result"
    }
   ],
   "source": [
    "df_merged_delta_right.groupby('name')['airline_sentiment_confidence'].mean().reset_index()"
   ]
  },
  {
   "cell_type": "markdown",
   "metadata": {},
   "source": [
    "**Also see how many names we have in each group**"
   ]
  },
  {
   "cell_type": "code",
   "execution_count": 40,
   "metadata": {},
   "outputs": [
    {
     "data": {
      "text/html": [
       "<div>\n",
       "<style scoped>\n",
       "    .dataframe tbody tr th:only-of-type {\n",
       "        vertical-align: middle;\n",
       "    }\n",
       "\n",
       "    .dataframe tbody tr th {\n",
       "        vertical-align: top;\n",
       "    }\n",
       "\n",
       "    .dataframe thead th {\n",
       "        text-align: right;\n",
       "    }\n",
       "</style>\n",
       "<table border=\"1\" class=\"dataframe\">\n",
       "  <thead>\n",
       "    <tr style=\"text-align: right;\">\n",
       "      <th></th>\n",
       "      <th>name</th>\n",
       "      <th>airline_sentiment_confidence</th>\n",
       "    </tr>\n",
       "  </thead>\n",
       "  <tbody>\n",
       "    <tr>\n",
       "      <th>0</th>\n",
       "      <td>Balhajji</td>\n",
       "      <td>1</td>\n",
       "    </tr>\n",
       "    <tr>\n",
       "      <th>1</th>\n",
       "      <td>JetBlueNews</td>\n",
       "      <td>5</td>\n",
       "    </tr>\n",
       "  </tbody>\n",
       "</table>\n",
       "</div>"
      ],
      "text/plain": [
       "          name  airline_sentiment_confidence\n",
       "0     Balhajji                             1\n",
       "1  JetBlueNews                             5"
      ]
     },
     "execution_count": 40,
     "metadata": {},
     "output_type": "execute_result"
    }
   ],
   "source": [
    "df_merged_delta_right.groupby('name')['airline_sentiment_confidence'].count().reset_index()"
   ]
  }
 ],
 "metadata": {
  "kernelspec": {
   "display_name": "csc310",
   "language": "python",
   "name": "csc310"
  },
  "language_info": {
   "codemirror_mode": {
    "name": "ipython",
    "version": 3
   },
   "file_extension": ".py",
   "mimetype": "text/x-python",
   "name": "python",
   "nbconvert_exporter": "python",
   "pygments_lexer": "ipython3",
   "version": "3.6.12"
  }
 },
 "nbformat": 4,
 "nbformat_minor": 4
}
